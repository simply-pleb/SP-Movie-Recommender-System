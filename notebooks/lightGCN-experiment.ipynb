{
 "cells": [
  {
   "cell_type": "code",
   "execution_count": null,
   "metadata": {},
   "outputs": [],
   "source": []
  },
  {
   "cell_type": "markdown",
   "metadata": {},
   "source": [
    "## Graph construction"
   ]
  },
  {
   "cell_type": "markdown",
   "metadata": {},
   "source": [
    "Our graph should be represented as an adjacency matrix and at the same times capture the interaction between $u_i$ and $i_j$. Initially we have an user-item interaction matrix $R$ that does capture the $u_i$ and $i_j$ interaction. Later we need to construct an adjacency matrix $A$ from $R$. We can achieve it by the following\n",
    "\n",
    "$$A = \\begin{pmatrix}0 & R \\\\ R^T & 0\\end{pmatrix}$$"
   ]
  },
  {
   "cell_type": "markdown",
   "metadata": {},
   "source": [
    "## Preprocess"
   ]
  },
  {
   "cell_type": "code",
   "execution_count": null,
   "metadata": {},
   "outputs": [],
   "source": [
    "ZIP_PATH = \"../data/raw/ml-100k.zip\"\n",
    "# extract zip"
   ]
  },
  {
   "cell_type": "markdown",
   "metadata": {},
   "source": [
    "## Model"
   ]
  }
 ],
 "metadata": {
  "kernelspec": {
   "display_name": "dl-python3.10",
   "language": "python",
   "name": "python3"
  },
  "language_info": {
   "name": "python",
   "version": "3.10.12"
  }
 },
 "nbformat": 4,
 "nbformat_minor": 2
}
